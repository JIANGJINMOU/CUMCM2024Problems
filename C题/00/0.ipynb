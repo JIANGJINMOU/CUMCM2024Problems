{
 "cells": [
  {
   "cell_type": "code",
   "execution_count": 9,
   "metadata": {},
   "outputs": [],
   "source": [
    "import pandas as pd\n",
    "\n",
    "# 读取Excel文件中的第一个工作表\n",
    "df农作物种植情况 = pd.read_excel('附件2.xlsx', sheet_name='2023年的农作物种植情况')\n",
    "df统计的相关数据 = pd.read_excel('附件2.xlsx', sheet_name='2023年统计的相关数据')\n",
    "\n",
    "# 数据清洗示例：删除重复记录\n",
    "df农作物种植情况 = df农作物种植情况.drop_duplicates()\n",
    "df统计的相关数据 = df统计的相关数据.drop_duplicates()\n",
    "\n",
    "# 数据清洗示例：处理缺失值，这里以填充0为例\n",
    "df农作物种植情况 = df农作物种植情况.fillna(0)\n",
    "df统计的相关数据 = df统计的相关数据.fillna(0)\n",
    "\n",
    "# 数据清洗示例：删除不需要的列，例如文档中未提及的列\n",
    "# 假设我们只关心'种植地块', '作物编号', '作物名称', '作物类型', '种植面积/亩', '种植季次'\n",
    "df农作物种植情况 = df农作物种植情况[['种植地块', '作物编号', '作物名称', '作物类型', '种植面积/亩', '种植季次']]\n",
    "df统计的相关数据 = df统计的相关数据[['作物编号', '作物名称', '亩产量/斤', '种植成本/(元/亩)', '销售单价/(元/斤)']]\n",
    "\n",
    "# 数据格式化示例：确保'种植面积/亩'是数值类型\n",
    "df农作物种植情况['种植面积/亩'] = pd.to_numeric(df农作物种植情况['种植面积/亩'], errors='coerce')\n",
    "\n",
    "# df农作物种植情况['作物类型简写'] = df农作物种植情况['作物类型'].str[:2]\n",
    "\n",
    "df_merged = pd.merge(df农作物种植情况, df统计的相关数据, on=['作物编号', '作物名称'], how='inner')\n",
    "# df_merged = df_merged.sort_values(by='作物编号')\n",
    "# 保存预处理后的数据到新的Excel文件\n",
    "df_merged.to_excel('预处理后的农作物种植情况.xlsx', index=False)"
   ]
  }
 ],
 "metadata": {
  "kernelspec": {
   "display_name": "base",
   "language": "python",
   "name": "python3"
  },
  "language_info": {
   "codemirror_mode": {
    "name": "ipython",
    "version": 3
   },
   "file_extension": ".py",
   "mimetype": "text/x-python",
   "name": "python",
   "nbconvert_exporter": "python",
   "pygments_lexer": "ipython3",
   "version": "3.12.3"
  }
 },
 "nbformat": 4,
 "nbformat_minor": 2
}
